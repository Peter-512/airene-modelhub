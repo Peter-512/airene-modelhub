{
 "cells": [
  {
   "cell_type": "code",
   "execution_count": 69,
   "metadata": {
    "ExecuteTime": {
     "end_time": "2023-12-11T13:05:36.355231Z",
     "start_time": "2023-12-11T13:05:33.492253Z"
    }
   },
   "outputs": [],
   "source": [
    "import pandas as pd\n",
    "\n",
    "df = pd.read_csv(\"data.csv\")\n",
    "# xgboost = XGBoostModel()\n",
    "# isolation_forest = IsolationForestModel()\n",
    "# trainer = Trainer([xgboost])\n",
    "# print(\"Created models, training...\")\n",
    "# trainer.train()\n",
    "# print(\"Models have been retrained\")"
   ]
  },
  {
   "cell_type": "markdown",
   "source": [
    "# Retrieving data"
   ],
   "metadata": {
    "collapsed": false
   }
  },
  {
   "cell_type": "code",
   "execution_count": 74,
   "outputs": [
    {
     "data": {
      "text/plain": "   segment_id      heavy         car   v85  \\\n0  9000000480  18.177157    4.685064  15.5   \n1  1003063473  35.124746  353.042178  40.0   \n2  9000000480  18.177157    4.685064  15.5   \n3  9000000573   0.000000   12.312664  32.5   \n4  9000000399   9.443568   85.093853  20.5   \n\n                                         coordinates      timestamp  \\\n0  [[[4.4450513959, 51.1771142024], [4.4455250959...  1701950400000   \n1  [[[4.3293062951, 50.8187125602], [4.3293846829...  1701950400000   \n2  [[[4.4450513959, 51.1771142024], [4.4455250959...  1701950400000   \n3  [[[4.7020009958, 50.8990053025], [4.7018461958...  1701950400000   \n4  [[[4.4584518959, 51.1654585024], [4.4580105959...  1701950400000   \n\n    latitude  longitude altitude  \\\n0  51.178000   4.448000     14.0   \n1  50.832000   4.346000     37.1   \n2  51.170346   4.451626     16.8   \n3  50.890000   4.724000     25.5   \n4  51.178000   4.448000     14.0   \n\n                                         sensor_type  ...  \\\n0  {'id': 14, 'name': 'SDS011', 'manufacturer': '...  ...   \n1  {'id': 14, 'name': 'SDS011', 'manufacturer': '...  ...   \n2  {'id': 9, 'name': 'DHT22', 'manufacturer': 'va...  ...   \n3  {'id': 9, 'name': 'DHT22', 'manufacturer': 'va...  ...   \n4  {'id': 9, 'name': 'DHT22', 'manufacturer': 'va...  ...   \n\n   current.air_quality.no2 current.air_quality.o3  current.air_quality.so2  \\\n0                     17.7                   33.3                      2.9   \n1                     18.0                   45.8                      2.7   \n2                     17.7                   33.3                      2.9   \n3                     13.9                   43.6                      2.0   \n4                     17.7                   33.3                      2.9   \n\n   current.air_quality.pm2_5  current.air_quality.pm10  \\\n0                        7.4                       9.4   \n1                        5.4                       7.1   \n2                        7.4                       9.4   \n3                        5.7                       7.4   \n4                        7.4                       9.4   \n\n   current.air_quality.us-epa-index  current.air_quality.gb-defra-index  \\\n0                                 1                                   1   \n1                                 1                                   1   \n2                                 1                                   1   \n3                                 1                                   1   \n4                                 1                                   1   \n\n      p1     p2                                    id  \n0  19.73  10.56  0a9df4a8-5332-46ff-9d1b-c833dba2382f  \n1  14.63   7.33  6f4ca1e0-84c9-4de4-80d5-c1049d4070bf  \n2  99.90   6.90  3a2e2f91-065e-443b-a4dc-1deac03d98e2  \n3  99.90   5.06  91d1d7d4-dd8c-4e71-81ab-0eaae3e2b424  \n4  99.90   5.91  2b684ccf-cfd2-4036-84ce-2bf6fffed395  \n\n[5 rows x 26 columns]",
      "text/html": "<div>\n<style scoped>\n    .dataframe tbody tr th:only-of-type {\n        vertical-align: middle;\n    }\n\n    .dataframe tbody tr th {\n        vertical-align: top;\n    }\n\n    .dataframe thead th {\n        text-align: right;\n    }\n</style>\n<table border=\"1\" class=\"dataframe\">\n  <thead>\n    <tr style=\"text-align: right;\">\n      <th></th>\n      <th>segment_id</th>\n      <th>heavy</th>\n      <th>car</th>\n      <th>v85</th>\n      <th>coordinates</th>\n      <th>timestamp</th>\n      <th>latitude</th>\n      <th>longitude</th>\n      <th>altitude</th>\n      <th>sensor_type</th>\n      <th>...</th>\n      <th>current.air_quality.no2</th>\n      <th>current.air_quality.o3</th>\n      <th>current.air_quality.so2</th>\n      <th>current.air_quality.pm2_5</th>\n      <th>current.air_quality.pm10</th>\n      <th>current.air_quality.us-epa-index</th>\n      <th>current.air_quality.gb-defra-index</th>\n      <th>p1</th>\n      <th>p2</th>\n      <th>id</th>\n    </tr>\n  </thead>\n  <tbody>\n    <tr>\n      <th>0</th>\n      <td>9000000480</td>\n      <td>18.177157</td>\n      <td>4.685064</td>\n      <td>15.5</td>\n      <td>[[[4.4450513959, 51.1771142024], [4.4455250959...</td>\n      <td>1701950400000</td>\n      <td>51.178000</td>\n      <td>4.448000</td>\n      <td>14.0</td>\n      <td>{'id': 14, 'name': 'SDS011', 'manufacturer': '...</td>\n      <td>...</td>\n      <td>17.7</td>\n      <td>33.3</td>\n      <td>2.9</td>\n      <td>7.4</td>\n      <td>9.4</td>\n      <td>1</td>\n      <td>1</td>\n      <td>19.73</td>\n      <td>10.56</td>\n      <td>0a9df4a8-5332-46ff-9d1b-c833dba2382f</td>\n    </tr>\n    <tr>\n      <th>1</th>\n      <td>1003063473</td>\n      <td>35.124746</td>\n      <td>353.042178</td>\n      <td>40.0</td>\n      <td>[[[4.3293062951, 50.8187125602], [4.3293846829...</td>\n      <td>1701950400000</td>\n      <td>50.832000</td>\n      <td>4.346000</td>\n      <td>37.1</td>\n      <td>{'id': 14, 'name': 'SDS011', 'manufacturer': '...</td>\n      <td>...</td>\n      <td>18.0</td>\n      <td>45.8</td>\n      <td>2.7</td>\n      <td>5.4</td>\n      <td>7.1</td>\n      <td>1</td>\n      <td>1</td>\n      <td>14.63</td>\n      <td>7.33</td>\n      <td>6f4ca1e0-84c9-4de4-80d5-c1049d4070bf</td>\n    </tr>\n    <tr>\n      <th>2</th>\n      <td>9000000480</td>\n      <td>18.177157</td>\n      <td>4.685064</td>\n      <td>15.5</td>\n      <td>[[[4.4450513959, 51.1771142024], [4.4455250959...</td>\n      <td>1701950400000</td>\n      <td>51.170346</td>\n      <td>4.451626</td>\n      <td>16.8</td>\n      <td>{'id': 9, 'name': 'DHT22', 'manufacturer': 'va...</td>\n      <td>...</td>\n      <td>17.7</td>\n      <td>33.3</td>\n      <td>2.9</td>\n      <td>7.4</td>\n      <td>9.4</td>\n      <td>1</td>\n      <td>1</td>\n      <td>99.90</td>\n      <td>6.90</td>\n      <td>3a2e2f91-065e-443b-a4dc-1deac03d98e2</td>\n    </tr>\n    <tr>\n      <th>3</th>\n      <td>9000000573</td>\n      <td>0.000000</td>\n      <td>12.312664</td>\n      <td>32.5</td>\n      <td>[[[4.7020009958, 50.8990053025], [4.7018461958...</td>\n      <td>1701950400000</td>\n      <td>50.890000</td>\n      <td>4.724000</td>\n      <td>25.5</td>\n      <td>{'id': 9, 'name': 'DHT22', 'manufacturer': 'va...</td>\n      <td>...</td>\n      <td>13.9</td>\n      <td>43.6</td>\n      <td>2.0</td>\n      <td>5.7</td>\n      <td>7.4</td>\n      <td>1</td>\n      <td>1</td>\n      <td>99.90</td>\n      <td>5.06</td>\n      <td>91d1d7d4-dd8c-4e71-81ab-0eaae3e2b424</td>\n    </tr>\n    <tr>\n      <th>4</th>\n      <td>9000000399</td>\n      <td>9.443568</td>\n      <td>85.093853</td>\n      <td>20.5</td>\n      <td>[[[4.4584518959, 51.1654585024], [4.4580105959...</td>\n      <td>1701950400000</td>\n      <td>51.178000</td>\n      <td>4.448000</td>\n      <td>14.0</td>\n      <td>{'id': 9, 'name': 'DHT22', 'manufacturer': 'va...</td>\n      <td>...</td>\n      <td>17.7</td>\n      <td>33.3</td>\n      <td>2.9</td>\n      <td>7.4</td>\n      <td>9.4</td>\n      <td>1</td>\n      <td>1</td>\n      <td>99.90</td>\n      <td>5.91</td>\n      <td>2b684ccf-cfd2-4036-84ce-2bf6fffed395</td>\n    </tr>\n  </tbody>\n</table>\n<p>5 rows × 26 columns</p>\n</div>"
     },
     "execution_count": 74,
     "metadata": {},
     "output_type": "execute_result"
    }
   ],
   "source": [
    "df = pd.read_csv(\"aggregated_messages.csv\", index_col = 0)\n",
    "df.columns = [\"message\"]\n",
    "parsed = df[\"message\"].apply(lambda x: json.loads(x))\n",
    "df = pd.DataFrame(parsed.tolist(), index = df.index)\n",
    "df.head()"
   ],
   "metadata": {
    "collapsed": false,
    "ExecuteTime": {
     "end_time": "2023-12-11T13:09:48.062999Z",
     "start_time": "2023-12-11T13:09:48.009499Z"
    }
   }
  },
  {
   "cell_type": "code",
   "execution_count": 100,
   "outputs": [
    {
     "data": {
      "text/plain": "array([\"[{'XGBRegressor': array([1., 1., 1., 1., 1., 1., 1., 1., 1., 1., 1., 1., 1., 1., 1., 1., 1.,\\n       1., 1., 1., 1., 1., 1., 1., 1., 1., 1., 1., 1., 1., 1., 1., 1., 1.,\\n       1., 1., 1., 1., 1., 1., 1., 1., 1., 1., 1., 1., 1., 1., 1., 1.])}]\"],\n      dtype=object)"
     },
     "execution_count": 100,
     "metadata": {},
     "output_type": "execute_result"
    }
   ],
   "source": [
    "preds = pd.read_csv(\"predictions.csv\", index_col = 0)\n",
    "preds.head()\n",
    "\n",
    "classifiers = preds.loc[\"classifiers\"].values\n",
    "regressors = preds.loc[\"regressors\"].values\n",
    "\n",
    "regressors\n"
   ],
   "metadata": {
    "collapsed": false,
    "ExecuteTime": {
     "end_time": "2023-12-11T13:15:00.304493Z",
     "start_time": "2023-12-11T13:15:00.281857Z"
    }
   }
  },
  {
   "cell_type": "code",
   "execution_count": 106,
   "outputs": [
    {
     "data": {
      "text/plain": "\"[{'XGBRegressor': array([1., 1., 1., 1., 1., 1., 1., 1., 1., 1., 1., 1., 1., 1., 1., 1., 1.,\\n       1., 1., 1., 1., 1., 1., 1., 1., 1., 1., 1., 1., 1., 1., 1., 1., 1.,\\n       1., 1., 1., 1., 1., 1., 1., 1., 1., 1., 1., 1., 1., 1., 1., 1.])}]\""
     },
     "execution_count": 106,
     "metadata": {},
     "output_type": "execute_result"
    }
   ],
   "source": [
    "import json\n",
    "\n",
    "regressors[0]"
   ],
   "metadata": {
    "collapsed": false,
    "ExecuteTime": {
     "end_time": "2023-12-11T13:15:42.519673Z",
     "start_time": "2023-12-11T13:15:42.495558Z"
    }
   }
  }
 ],
 "metadata": {
  "kernelspec": {
   "display_name": ".venv",
   "language": "python",
   "name": "python3"
  },
  "language_info": {
   "codemirror_mode": {
    "name": "ipython",
    "version": 3
   },
   "file_extension": ".py",
   "mimetype": "text/x-python",
   "name": "python",
   "nbconvert_exporter": "python",
   "pygments_lexer": "ipython3",
   "version": "3.11.6"
  }
 },
 "nbformat": 4,
 "nbformat_minor": 2
}
